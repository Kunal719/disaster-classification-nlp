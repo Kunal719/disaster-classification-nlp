{
  "nbformat": 4,
  "nbformat_minor": 0,
  "metadata": {
    "colab": {
      "name": "Disaster-Classification.ipynb",
      "provenance": [],
      "collapsed_sections": []
    },
    "kernelspec": {
      "name": "python3",
      "display_name": "Python 3"
    },
    "language_info": {
      "name": "python"
    },
    "accelerator": "GPU"
  },
  "cells": [
    {
      "cell_type": "markdown",
      "metadata": {
        "id": "Nbv0QadTSYmM"
      },
      "source": [
        "# Disaster Classification via tweets\n",
        "\n",
        "Target:\n",
        "\n",
        "1 = Disaster\n",
        "\n",
        "0 = Not Disaster"
      ]
    },
    {
      "cell_type": "code",
      "metadata": {
        "colab": {
          "base_uri": "https://localhost:8080/"
        },
        "id": "_3_eFd6HaVfr",
        "outputId": "1da0cb16-8020-478b-adc2-de49c15ea33d"
      },
      "source": [
        "# Check gpu\n",
        "!nvidia-smi -L"
      ],
      "execution_count": 2,
      "outputs": [
        {
          "output_type": "stream",
          "name": "stdout",
          "text": [
            "GPU 0: Tesla K80 (UUID: GPU-d1bae8d5-1022-fed4-fd3b-bfe3efcdcdab)\n"
          ]
        }
      ]
    },
    {
      "cell_type": "markdown",
      "metadata": {
        "id": "bVkV0v5SS9j1"
      },
      "source": [
        "## Visualizing a text dataset"
      ]
    },
    {
      "cell_type": "code",
      "metadata": {
        "colab": {
          "base_uri": "https://localhost:8080/",
          "height": 204
        },
        "id": "4zky6B8aTHbv",
        "outputId": "2cbe4ed4-8e7d-40af-a0a7-1f537bef4f01"
      },
      "source": [
        "import pandas as pd\n",
        "train_df = pd.read_csv(\"train.csv\")\n",
        "test_df = pd.read_csv(\"test.csv\")\n",
        "train_df.head()"
      ],
      "execution_count": 4,
      "outputs": [
        {
          "output_type": "execute_result",
          "data": {
            "text/html": [
              "<div>\n",
              "<style scoped>\n",
              "    .dataframe tbody tr th:only-of-type {\n",
              "        vertical-align: middle;\n",
              "    }\n",
              "\n",
              "    .dataframe tbody tr th {\n",
              "        vertical-align: top;\n",
              "    }\n",
              "\n",
              "    .dataframe thead th {\n",
              "        text-align: right;\n",
              "    }\n",
              "</style>\n",
              "<table border=\"1\" class=\"dataframe\">\n",
              "  <thead>\n",
              "    <tr style=\"text-align: right;\">\n",
              "      <th></th>\n",
              "      <th>id</th>\n",
              "      <th>keyword</th>\n",
              "      <th>location</th>\n",
              "      <th>text</th>\n",
              "      <th>target</th>\n",
              "    </tr>\n",
              "  </thead>\n",
              "  <tbody>\n",
              "    <tr>\n",
              "      <th>0</th>\n",
              "      <td>1</td>\n",
              "      <td>NaN</td>\n",
              "      <td>NaN</td>\n",
              "      <td>Our Deeds are the Reason of this #earthquake M...</td>\n",
              "      <td>1</td>\n",
              "    </tr>\n",
              "    <tr>\n",
              "      <th>1</th>\n",
              "      <td>4</td>\n",
              "      <td>NaN</td>\n",
              "      <td>NaN</td>\n",
              "      <td>Forest fire near La Ronge Sask. Canada</td>\n",
              "      <td>1</td>\n",
              "    </tr>\n",
              "    <tr>\n",
              "      <th>2</th>\n",
              "      <td>5</td>\n",
              "      <td>NaN</td>\n",
              "      <td>NaN</td>\n",
              "      <td>All residents asked to 'shelter in place' are ...</td>\n",
              "      <td>1</td>\n",
              "    </tr>\n",
              "    <tr>\n",
              "      <th>3</th>\n",
              "      <td>6</td>\n",
              "      <td>NaN</td>\n",
              "      <td>NaN</td>\n",
              "      <td>13,000 people receive #wildfires evacuation or...</td>\n",
              "      <td>1</td>\n",
              "    </tr>\n",
              "    <tr>\n",
              "      <th>4</th>\n",
              "      <td>7</td>\n",
              "      <td>NaN</td>\n",
              "      <td>NaN</td>\n",
              "      <td>Just got sent this photo from Ruby #Alaska as ...</td>\n",
              "      <td>1</td>\n",
              "    </tr>\n",
              "  </tbody>\n",
              "</table>\n",
              "</div>"
            ],
            "text/plain": [
              "   id keyword  ...                                               text target\n",
              "0   1     NaN  ...  Our Deeds are the Reason of this #earthquake M...      1\n",
              "1   4     NaN  ...             Forest fire near La Ronge Sask. Canada      1\n",
              "2   5     NaN  ...  All residents asked to 'shelter in place' are ...      1\n",
              "3   6     NaN  ...  13,000 people receive #wildfires evacuation or...      1\n",
              "4   7     NaN  ...  Just got sent this photo from Ruby #Alaska as ...      1\n",
              "\n",
              "[5 rows x 5 columns]"
            ]
          },
          "metadata": {},
          "execution_count": 4
        }
      ]
    },
    {
      "cell_type": "code",
      "metadata": {
        "colab": {
          "base_uri": "https://localhost:8080/",
          "height": 204
        },
        "id": "DwExf_zZTKY7",
        "outputId": "dae34dc3-fbd4-463a-b3a0-5fd6a03f3559"
      },
      "source": [
        "# Shuffle our training data\n",
        "train_df_shuffled = train_df.sample(frac=1, random_state=42)\n",
        "train_df_shuffled.head()"
      ],
      "execution_count": 5,
      "outputs": [
        {
          "output_type": "execute_result",
          "data": {
            "text/html": [
              "<div>\n",
              "<style scoped>\n",
              "    .dataframe tbody tr th:only-of-type {\n",
              "        vertical-align: middle;\n",
              "    }\n",
              "\n",
              "    .dataframe tbody tr th {\n",
              "        vertical-align: top;\n",
              "    }\n",
              "\n",
              "    .dataframe thead th {\n",
              "        text-align: right;\n",
              "    }\n",
              "</style>\n",
              "<table border=\"1\" class=\"dataframe\">\n",
              "  <thead>\n",
              "    <tr style=\"text-align: right;\">\n",
              "      <th></th>\n",
              "      <th>id</th>\n",
              "      <th>keyword</th>\n",
              "      <th>location</th>\n",
              "      <th>text</th>\n",
              "      <th>target</th>\n",
              "    </tr>\n",
              "  </thead>\n",
              "  <tbody>\n",
              "    <tr>\n",
              "      <th>2644</th>\n",
              "      <td>3796</td>\n",
              "      <td>destruction</td>\n",
              "      <td>NaN</td>\n",
              "      <td>So you have a new weapon that can cause un-ima...</td>\n",
              "      <td>1</td>\n",
              "    </tr>\n",
              "    <tr>\n",
              "      <th>2227</th>\n",
              "      <td>3185</td>\n",
              "      <td>deluge</td>\n",
              "      <td>NaN</td>\n",
              "      <td>The f$&amp;amp;@ing things I do for #GISHWHES Just...</td>\n",
              "      <td>0</td>\n",
              "    </tr>\n",
              "    <tr>\n",
              "      <th>5448</th>\n",
              "      <td>7769</td>\n",
              "      <td>police</td>\n",
              "      <td>UK</td>\n",
              "      <td>DT @georgegalloway: RT @Galloway4Mayor: ÛÏThe...</td>\n",
              "      <td>1</td>\n",
              "    </tr>\n",
              "    <tr>\n",
              "      <th>132</th>\n",
              "      <td>191</td>\n",
              "      <td>aftershock</td>\n",
              "      <td>NaN</td>\n",
              "      <td>Aftershock back to school kick off was great. ...</td>\n",
              "      <td>0</td>\n",
              "    </tr>\n",
              "    <tr>\n",
              "      <th>6845</th>\n",
              "      <td>9810</td>\n",
              "      <td>trauma</td>\n",
              "      <td>Montgomery County, MD</td>\n",
              "      <td>in response to trauma Children of Addicts deve...</td>\n",
              "      <td>0</td>\n",
              "    </tr>\n",
              "  </tbody>\n",
              "</table>\n",
              "</div>"
            ],
            "text/plain": [
              "        id  ... target\n",
              "2644  3796  ...      1\n",
              "2227  3185  ...      0\n",
              "5448  7769  ...      1\n",
              "132    191  ...      0\n",
              "6845  9810  ...      0\n",
              "\n",
              "[5 rows x 5 columns]"
            ]
          },
          "metadata": {},
          "execution_count": 5
        }
      ]
    },
    {
      "cell_type": "code",
      "metadata": {
        "colab": {
          "base_uri": "https://localhost:8080/",
          "height": 204
        },
        "id": "r-q_f9DxTM5c",
        "outputId": "7782bd8d-9901-4b53-debf-419aebcdc149"
      },
      "source": [
        "# What does the test dataframe looks like\n",
        "test_df.head()"
      ],
      "execution_count": 6,
      "outputs": [
        {
          "output_type": "execute_result",
          "data": {
            "text/html": [
              "<div>\n",
              "<style scoped>\n",
              "    .dataframe tbody tr th:only-of-type {\n",
              "        vertical-align: middle;\n",
              "    }\n",
              "\n",
              "    .dataframe tbody tr th {\n",
              "        vertical-align: top;\n",
              "    }\n",
              "\n",
              "    .dataframe thead th {\n",
              "        text-align: right;\n",
              "    }\n",
              "</style>\n",
              "<table border=\"1\" class=\"dataframe\">\n",
              "  <thead>\n",
              "    <tr style=\"text-align: right;\">\n",
              "      <th></th>\n",
              "      <th>id</th>\n",
              "      <th>keyword</th>\n",
              "      <th>location</th>\n",
              "      <th>text</th>\n",
              "    </tr>\n",
              "  </thead>\n",
              "  <tbody>\n",
              "    <tr>\n",
              "      <th>0</th>\n",
              "      <td>0</td>\n",
              "      <td>NaN</td>\n",
              "      <td>NaN</td>\n",
              "      <td>Just happened a terrible car crash</td>\n",
              "    </tr>\n",
              "    <tr>\n",
              "      <th>1</th>\n",
              "      <td>2</td>\n",
              "      <td>NaN</td>\n",
              "      <td>NaN</td>\n",
              "      <td>Heard about #earthquake is different cities, s...</td>\n",
              "    </tr>\n",
              "    <tr>\n",
              "      <th>2</th>\n",
              "      <td>3</td>\n",
              "      <td>NaN</td>\n",
              "      <td>NaN</td>\n",
              "      <td>there is a forest fire at spot pond, geese are...</td>\n",
              "    </tr>\n",
              "    <tr>\n",
              "      <th>3</th>\n",
              "      <td>9</td>\n",
              "      <td>NaN</td>\n",
              "      <td>NaN</td>\n",
              "      <td>Apocalypse lighting. #Spokane #wildfires</td>\n",
              "    </tr>\n",
              "    <tr>\n",
              "      <th>4</th>\n",
              "      <td>11</td>\n",
              "      <td>NaN</td>\n",
              "      <td>NaN</td>\n",
              "      <td>Typhoon Soudelor kills 28 in China and Taiwan</td>\n",
              "    </tr>\n",
              "  </tbody>\n",
              "</table>\n",
              "</div>"
            ],
            "text/plain": [
              "   id keyword location                                               text\n",
              "0   0     NaN      NaN                 Just happened a terrible car crash\n",
              "1   2     NaN      NaN  Heard about #earthquake is different cities, s...\n",
              "2   3     NaN      NaN  there is a forest fire at spot pond, geese are...\n",
              "3   9     NaN      NaN           Apocalypse lighting. #Spokane #wildfires\n",
              "4  11     NaN      NaN      Typhoon Soudelor kills 28 in China and Taiwan"
            ]
          },
          "metadata": {},
          "execution_count": 6
        }
      ]
    },
    {
      "cell_type": "code",
      "metadata": {
        "colab": {
          "base_uri": "https://localhost:8080/"
        },
        "id": "4Ide-CgYTPf7",
        "outputId": "6ff53407-f4d3-41c0-cd88-5e54fcd39c29"
      },
      "source": [
        "# How many examples of each class in train set\n",
        "train_df.target.value_counts()"
      ],
      "execution_count": 7,
      "outputs": [
        {
          "output_type": "execute_result",
          "data": {
            "text/plain": [
              "0    4342\n",
              "1    3271\n",
              "Name: target, dtype: int64"
            ]
          },
          "metadata": {},
          "execution_count": 7
        }
      ]
    },
    {
      "cell_type": "code",
      "metadata": {
        "colab": {
          "base_uri": "https://localhost:8080/"
        },
        "id": "E4XbgV3cTRSo",
        "outputId": "ed4a62ce-11f6-4d3e-be55-aa66a22cbcdd"
      },
      "source": [
        "# How many total samples?\n",
        "len(train_df), len(test_df)"
      ],
      "execution_count": 8,
      "outputs": [
        {
          "output_type": "execute_result",
          "data": {
            "text/plain": [
              "(7613, 3263)"
            ]
          },
          "metadata": {},
          "execution_count": 8
        }
      ]
    },
    {
      "cell_type": "code",
      "metadata": {
        "colab": {
          "base_uri": "https://localhost:8080/"
        },
        "id": "A1pSyPH5TS7D",
        "outputId": "8476cdc9-d983-4826-cef5-7da6c1d94d96"
      },
      "source": [
        "# Let's visualize random training examples\n",
        "import random\n",
        "random_index = random.randint(0, len(train_df)-5)\n",
        "for row in train_df_shuffled[[\"text\",\"target\"]][random_index:random_index+5].itertuples():\n",
        "  _,text,target = row\n",
        "  print(f\"Target : {target} - \", \"Real Disaster\" if target > 0 else \"Not Real Disaster\")\n",
        "  print(f\"Text : \\n {text} \\n\")\n",
        "  print(\"---\\n\")"
      ],
      "execution_count": 9,
      "outputs": [
        {
          "output_type": "stream",
          "name": "stdout",
          "text": [
            "Target : 1 -  Real Disaster\n",
            "Text : \n",
            " Tarp is protecting outfield and cannot be moved. Infield getting deluged. \n",
            "\n",
            "---\n",
            "\n",
            "Target : 0 -  Not Real Disaster\n",
            "Text : \n",
            " 6 Trends Are Driving a Data Tsunami for Startups http://t.co/sjh0HsRp4s #startup \n",
            "\n",
            "---\n",
            "\n",
            "Target : 0 -  Not Real Disaster\n",
            "Text : \n",
            " @mattcohen4fake Gamma Ray January Worlds Collide She Waits Be Me Wave Past Perfect Reunion Lucky Cool If I Come Over Hot Times... \n",
            "\n",
            "---\n",
            "\n",
            "Target : 1 -  Real Disaster\n",
            "Text : \n",
            " @POTUS Thx for emergency dec. http://t.co/DyWWNbbYvJ 4 days and no plan to get H20 to those who have no transport. Can you deploy troops? \n",
            "\n",
            "---\n",
            "\n",
            "Target : 0 -  Not Real Disaster\n",
            "Text : \n",
            " investigate why Robert mueller didn't respond to my complaints since Nov 2011 &amp; just left me/son out her in danger http://t.co/pe2D3HCsNI \n",
            "\n",
            "---\n",
            "\n"
          ]
        }
      ]
    },
    {
      "cell_type": "code",
      "metadata": {
        "id": "phO_VHoBTVdW"
      },
      "source": [
        "# Getting our data in separate lists for sentences and labels\n",
        "train_sentences = train_df_shuffled['text'].to_numpy()\n",
        "train_labels =  train_df_shuffled['target'].to_numpy() "
      ],
      "execution_count": 10,
      "outputs": []
    },
    {
      "cell_type": "code",
      "metadata": {
        "colab": {
          "base_uri": "https://localhost:8080/"
        },
        "id": "H6juDimkTwm9",
        "outputId": "21aa0c73-ccff-4883-a0a7-528ec7ab2e64"
      },
      "source": [
        "# Check the first 10 samples\n",
        "train_sentences[:10], train_labels[:10]"
      ],
      "execution_count": 11,
      "outputs": [
        {
          "output_type": "execute_result",
          "data": {
            "text/plain": [
              "(array(['So you have a new weapon that can cause un-imaginable destruction.',\n",
              "        'The f$&amp;@ing things I do for #GISHWHES Just got soaked in a deluge going for pads and tampons. Thx @mishacollins @/@',\n",
              "        'DT @georgegalloway: RT @Galloway4Mayor: \\x89ÛÏThe CoL police can catch a pickpocket in Liverpool Stree... http://t.co/vXIn1gOq4Q',\n",
              "        'Aftershock back to school kick off was great. I want to thank everyone for making it possible. What a great night.',\n",
              "        'in response to trauma Children of Addicts develop a defensive self - one that decreases vulnerability. (3',\n",
              "        '@Calum5SOS you look like you got caught in a rainstorm this is amazing and disgusting at the same time',\n",
              "        'my favorite lady came to our volunteer meeting\\nhopefully joining her youth collision and i am excite http://t.co/Ij0wQ490cS',\n",
              "        '@brianroemmele UX fail of EMV - people want to insert and remove quickly like a gas pump stripe reader. 1 person told me it crashed the POS',\n",
              "        \"Can't find my ariana grande shirt  this is a fucking tragedy\",\n",
              "        'The Murderous Story Of America\\x89Ûªs First Hijacking http://t.co/EYUGk6byxr'],\n",
              "       dtype=object), array([1, 0, 1, 0, 0, 0, 1, 1, 0, 1]))"
            ]
          },
          "metadata": {},
          "execution_count": 11
        }
      ]
    },
    {
      "cell_type": "markdown",
      "metadata": {
        "id": "HW-91xOXZ8BY"
      },
      "source": [
        "Create a tensorboard callback function to plot our loss curves "
      ]
    },
    {
      "cell_type": "code",
      "metadata": {
        "id": "1jNc8VqzWWAk"
      },
      "source": [
        "import datetime\n",
        "\n",
        "def create_tensorboard_callback(dir_name, experiment_name):\n",
        "  \"\"\"\n",
        "  Creates a TensorBoard callback instand to store log files.\n",
        "  Stores log files with the filepath:\n",
        "    \"dir_name/experiment_name/current_datetime/\"\n",
        "  Args:\n",
        "    dir_name: target directory to store TensorBoard log files\n",
        "    experiment_name: name of experiment directory (e.g. efficientnet_model_1)\n",
        "  \"\"\"\n",
        "  log_dir = dir_name + \"/\" + experiment_name + \"/\" + datetime.datetime.now().strftime(\"%Y%m%d-%H%M%S\")\n",
        "  tensorboard_callback = tf.keras.callbacks.TensorBoard(\n",
        "      log_dir=log_dir\n",
        "  )\n",
        "  print(f\"Saving TensorBoard log files to: {log_dir}\")\n",
        "  return tensorboard_callback"
      ],
      "execution_count": 12,
      "outputs": []
    },
    {
      "cell_type": "markdown",
      "metadata": {
        "id": "Ati6GGAtT0OB"
      },
      "source": [
        "## Create a model to train upon"
      ]
    },
    {
      "cell_type": "markdown",
      "metadata": {
        "id": "CK4J5MIHVhyv"
      },
      "source": [
        "### TensorFlow Hub Pretrained Sentence Encoder"
      ]
    },
    {
      "cell_type": "code",
      "metadata": {
        "id": "f9m4b33EVoVr"
      },
      "source": [
        "# Create a keras layers using the USE pretrained layer from a tensorflow hub\n",
        "import tensorflow as tf\n",
        "import tensorflow_hub as hub\n",
        "sentence_encoder_layer = hub.KerasLayer(\"https://tfhub.dev/google/universal-sentence-encoder/4\",\n",
        "                                        input_shape=[],\n",
        "                                        dtype=tf.string,\n",
        "                                        trainable=True,\n",
        "                                        name=\"USE\")"
      ],
      "execution_count": 14,
      "outputs": []
    },
    {
      "cell_type": "code",
      "metadata": {
        "id": "5k0f1C5GWAj0"
      },
      "source": [
        "# Create a model using the Sequential API\n",
        "from tensorflow.keras import layers\n",
        "\n",
        "model = tf.keras.Sequential([\n",
        "  sentence_encoder_layer,\n",
        "  layers.Dense(1, activation=\"sigmoid\", name=\"output_layer\")\n",
        "])\n",
        "\n",
        "# Compile model\n",
        "model.compile(loss=\"binary_crossentropy\",\n",
        "                optimizer=tf.keras.optimizers.Adam(),\n",
        "                metrics=[\"accuracy\"])"
      ],
      "execution_count": 15,
      "outputs": []
    },
    {
      "cell_type": "code",
      "metadata": {
        "colab": {
          "base_uri": "https://localhost:8080/"
        },
        "id": "XzKkzEwZWMKz",
        "outputId": "5d1f6476-4c50-4a6a-bf15-03911bc6bd86"
      },
      "source": [
        "# Get summary\n",
        "model.summary()"
      ],
      "execution_count": 16,
      "outputs": [
        {
          "output_type": "stream",
          "name": "stdout",
          "text": [
            "Model: \"sequential\"\n",
            "_________________________________________________________________\n",
            "Layer (type)                 Output Shape              Param #   \n",
            "=================================================================\n",
            "USE (KerasLayer)             (None, 512)               256797824 \n",
            "_________________________________________________________________\n",
            "output_layer (Dense)         (None, 1)                 513       \n",
            "=================================================================\n",
            "Total params: 256,798,337\n",
            "Trainable params: 256,798,337\n",
            "Non-trainable params: 0\n",
            "_________________________________________________________________\n"
          ]
        }
      ]
    },
    {
      "cell_type": "code",
      "metadata": {
        "colab": {
          "base_uri": "https://localhost:8080/"
        },
        "id": "l4yaVuX4WiJL",
        "outputId": "49e78c0e-b286-47e1-88d9-a85813e198ce"
      },
      "source": [
        "# Make validation data for training the model\n",
        "from sklearn.model_selection import train_test_split\n",
        "training_sentences, validation_sentences, training_labels, validation_labels = train_test_split(train_df_shuffled[\"text\"].to_numpy(),\n",
        "                                                                                                train_df_shuffled[\"target\"].to_numpy(),\n",
        "                                                                                                test_size=0.1, # 10% of training data for validation\n",
        "                                                                                                random_state=42)\n",
        "len(training_sentences), len(validation_sentences), len(training_labels), len(validation_labels)"
      ],
      "execution_count": 17,
      "outputs": [
        {
          "output_type": "execute_result",
          "data": {
            "text/plain": [
              "(6851, 762, 6851, 762)"
            ]
          },
          "metadata": {},
          "execution_count": 17
        }
      ]
    },
    {
      "cell_type": "code",
      "metadata": {
        "colab": {
          "base_uri": "https://localhost:8080/"
        },
        "id": "h9CCWngwXafL",
        "outputId": "25959296-5d35-4639-cad3-4638f0aa2c45"
      },
      "source": [
        "# Fit the data to our model\n",
        "history_model = model.fit(train_sentences,\n",
        "                          train_labels,\n",
        "                          epochs=5,\n",
        "                          validation_data=(validation_sentences,validation_labels),\n",
        "                          callbacks=[create_tensorboard_callback(\"model_logs\",\"tf_hub_sentence_encoder\")])"
      ],
      "execution_count": 18,
      "outputs": [
        {
          "output_type": "stream",
          "name": "stdout",
          "text": [
            "Saving TensorBoard log files to: model_logs/tf_hub_sentence_encoder/20211023-230944\n",
            "Epoch 1/5\n",
            "238/238 [==============================] - 66s 238ms/step - loss: 0.4636 - accuracy: 0.7925 - val_loss: 0.3028 - val_accuracy: 0.9081\n",
            "Epoch 2/5\n",
            "238/238 [==============================] - 55s 233ms/step - loss: 0.2432 - accuracy: 0.9095 - val_loss: 0.1109 - val_accuracy: 0.9711\n",
            "Epoch 3/5\n",
            "238/238 [==============================] - 55s 233ms/step - loss: 0.0861 - accuracy: 0.9756 - val_loss: 0.0409 - val_accuracy: 0.9856\n",
            "Epoch 4/5\n",
            "238/238 [==============================] - 55s 232ms/step - loss: 0.0483 - accuracy: 0.9844 - val_loss: 0.0375 - val_accuracy: 0.9882\n",
            "Epoch 5/5\n",
            "238/238 [==============================] - 55s 233ms/step - loss: 0.0331 - accuracy: 0.9892 - val_loss: 0.0178 - val_accuracy: 0.9961\n"
          ]
        }
      ]
    },
    {
      "cell_type": "code",
      "metadata": {
        "id": "KbREozPWY29g"
      },
      "source": [
        "# Plot loss curves\n",
        "import matplotlib.pyplot as plt\n",
        "\n",
        "def plot_loss_curves(history):\n",
        "  \"\"\"\n",
        "  Returns separate loss curves for training and validation metrics.\n",
        "  Args:\n",
        "    history: TensorFlow model History object (see: https://www.tensorflow.org/api_docs/python/tf/keras/callbacks/History)\n",
        "  \"\"\" \n",
        "  loss = history.history['loss']\n",
        "  val_loss = history.history['val_loss']\n",
        "\n",
        "  accuracy = history.history['accuracy']\n",
        "  val_accuracy = history.history['val_accuracy']\n",
        "\n",
        "  epochs = range(len(history.history['loss']))\n",
        "\n",
        "  # Plot loss\n",
        "  plt.plot(epochs, loss, label='training_loss')\n",
        "  plt.plot(epochs, val_loss, label='val_loss')\n",
        "  plt.title('Loss')\n",
        "  plt.xlabel('Epochs')\n",
        "  plt.legend()\n",
        "\n",
        "  # Plot accuracy\n",
        "  plt.figure()\n",
        "  plt.plot(epochs, accuracy, label='training_accuracy')\n",
        "  plt.plot(epochs, val_accuracy, label='val_accuracy')\n",
        "  plt.title('Accuracy')\n",
        "  plt.xlabel('Epochs')\n",
        "  plt.legend();"
      ],
      "execution_count": 21,
      "outputs": []
    },
    {
      "cell_type": "code",
      "metadata": {
        "colab": {
          "base_uri": "https://localhost:8080/",
          "height": 573
        },
        "id": "hS7qGawAcUDR",
        "outputId": "2365b886-d379-4edb-96f0-dafc202a1ead"
      },
      "source": [
        "plot_loss_curves(history_model)"
      ],
      "execution_count": 22,
      "outputs": [
        {
          "output_type": "display_data",
          "data": {
            "image/png": "[encoded data removed]",
            "text/plain": [
              "<Figure size 432x288 with 1 Axes>"
            ]
          },
          "metadata": {
            "needs_background": "light"
          }
        },
        {
          "output_type": "display_data",
          "data": {
            "image/png": "[encoded data removed]",
            "text/plain": [
              "<Figure size 432x288 with 1 Axes>"
            ]
          },
          "metadata": {
            "needs_background": "light"
          }
        }
      ]
    },
    {
      "cell_type": "code",
      "metadata": {
        "colab": {
          "base_uri": "https://localhost:8080/"
        },
        "id": "VPmFBqQTcW8w",
        "outputId": "1fcd292a-b6cc-495f-8284-1878f1c2274b"
      },
      "source": [
        "# Create a list of sentences for test dataset\n",
        "test_sentences = test_df[\"text\"].to_numpy()\n",
        "test_sentences[:10]"
      ],
      "execution_count": 24,
      "outputs": [
        {
          "output_type": "execute_result",
          "data": {
            "text/plain": [
              "array(['Just happened a terrible car crash',\n",
              "       'Heard about #earthquake is different cities, stay safe everyone.',\n",
              "       'there is a forest fire at spot pond, geese are fleeing across the street, I cannot save them all',\n",
              "       'Apocalypse lighting. #Spokane #wildfires',\n",
              "       'Typhoon Soudelor kills 28 in China and Taiwan',\n",
              "       \"We're shaking...It's an earthquake\",\n",
              "       \"They'd probably still show more life than Arsenal did yesterday, eh? EH?\",\n",
              "       'Hey! How are you?', 'What a nice hat?', 'Fuck off!'], dtype=object)"
            ]
          },
          "metadata": {},
          "execution_count": 24
        }
      ]
    },
    {
      "cell_type": "code",
      "metadata": {
        "id": "sG7Eerf_cuuA"
      },
      "source": [
        "# Make predictions on the test dataset\n",
        "model_pred_probs = model.predict(test_sentences)"
      ],
      "execution_count": 25,
      "outputs": []
    },
    {
      "cell_type": "code",
      "metadata": {
        "colab": {
          "base_uri": "https://localhost:8080/"
        },
        "id": "Q-n-5ZCodBdS",
        "outputId": "da3b92e6-2852-4b75-aff5-6dd9c58f88cf"
      },
      "source": [
        "# Check first 10\n",
        "model_pred_probs[:10], model_pred_probs.shape"
      ],
      "execution_count": 27,
      "outputs": [
        {
          "output_type": "execute_result",
          "data": {
            "text/plain": [
              "(array([[0.9799708 ],\n",
              "        [0.9944344 ],\n",
              "        [0.99547833],\n",
              "        [0.99480325],\n",
              "        [0.99607533],\n",
              "        [0.9899484 ],\n",
              "        [0.0036551 ],\n",
              "        [0.00381143],\n",
              "        [0.0036211 ],\n",
              "        [0.00351992]], dtype=float32), (3263, 1))"
            ]
          },
          "metadata": {},
          "execution_count": 27
        }
      ]
    },
    {
      "cell_type": "code",
      "metadata": {
        "colab": {
          "base_uri": "https://localhost:8080/"
        },
        "id": "Z0-nNtk8dHDL",
        "outputId": "b632dd98-fd2e-456f-c5a7-1cd21ea545ef"
      },
      "source": [
        "# Change the prediciton probabilities to label format\n",
        "model_preds = tf.squeeze(tf.round(model_pred_probs))\n",
        "model_preds[:10],model_preds.shape"
      ],
      "execution_count": 28,
      "outputs": [
        {
          "output_type": "execute_result",
          "data": {
            "text/plain": [
              "(<tf.Tensor: shape=(10,), dtype=float32, numpy=array([1., 1., 1., 1., 1., 1., 0., 0., 0., 0.], dtype=float32)>,\n",
              " TensorShape([3263]))"
            ]
          },
          "metadata": {},
          "execution_count": 28
        }
      ]
    },
    {
      "cell_type": "code",
      "metadata": {
        "colab": {
          "base_uri": "https://localhost:8080/",
          "height": 669
        },
        "id": "pwCTgaCBdqU1",
        "outputId": "752a8f62-a7f2-4a11-e5ee-ee8802fa3506"
      },
      "source": [
        "# Let's visualize our predictions\n",
        "import pandas as pd\n",
        "results_df = pd.DataFrame({\"Tweets\":test_sentences,\n",
        "                          \"Predicted Label\":model_preds,\n",
        "                          \"Predicted Probability\":tf.squeeze(model_pred_probs)})\n",
        "results_df.head(20)"
      ],
      "execution_count": 38,
      "outputs": [
        {
          "output_type": "execute_result",
          "data": {
            "text/html": [
              "<div>\n",
              "<style scoped>\n",
              "    .dataframe tbody tr th:only-of-type {\n",
              "        vertical-align: middle;\n",
              "    }\n",
              "\n",
              "    .dataframe tbody tr th {\n",
              "        vertical-align: top;\n",
              "    }\n",
              "\n",
              "    .dataframe thead th {\n",
              "        text-align: right;\n",
              "    }\n",
              "</style>\n",
              "<table border=\"1\" class=\"dataframe\">\n",
              "  <thead>\n",
              "    <tr style=\"text-align: right;\">\n",
              "      <th></th>\n",
              "      <th>Tweets</th>\n",
              "      <th>Predicted Label</th>\n",
              "      <th>Predicted Probability</th>\n",
              "    </tr>\n",
              "  </thead>\n",
              "  <tbody>\n",
              "    <tr>\n",
              "      <th>0</th>\n",
              "      <td>Just happened a terrible car crash</td>\n",
              "      <td>1.0</td>\n",
              "      <td>0.979971</td>\n",
              "    </tr>\n",
              "    <tr>\n",
              "      <th>1</th>\n",
              "      <td>Heard about #earthquake is different cities, s...</td>\n",
              "      <td>1.0</td>\n",
              "      <td>0.994434</td>\n",
              "    </tr>\n",
              "    <tr>\n",
              "      <th>2</th>\n",
              "      <td>there is a forest fire at spot pond, geese are...</td>\n",
              "      <td>1.0</td>\n",
              "      <td>0.995478</td>\n",
              "    </tr>\n",
              "    <tr>\n",
              "      <th>3</th>\n",
              "      <td>Apocalypse lighting. #Spokane #wildfires</td>\n",
              "      <td>1.0</td>\n",
              "      <td>0.994803</td>\n",
              "    </tr>\n",
              "    <tr>\n",
              "      <th>4</th>\n",
              "      <td>Typhoon Soudelor kills 28 in China and Taiwan</td>\n",
              "      <td>1.0</td>\n",
              "      <td>0.996075</td>\n",
              "    </tr>\n",
              "    <tr>\n",
              "      <th>5</th>\n",
              "      <td>We're shaking...It's an earthquake</td>\n",
              "      <td>1.0</td>\n",
              "      <td>0.989948</td>\n",
              "    </tr>\n",
              "    <tr>\n",
              "      <th>6</th>\n",
              "      <td>They'd probably still show more life than Arse...</td>\n",
              "      <td>0.0</td>\n",
              "      <td>0.003655</td>\n",
              "    </tr>\n",
              "    <tr>\n",
              "      <th>7</th>\n",
              "      <td>Hey! How are you?</td>\n",
              "      <td>0.0</td>\n",
              "      <td>0.003811</td>\n",
              "    </tr>\n",
              "    <tr>\n",
              "      <th>8</th>\n",
              "      <td>What a nice hat?</td>\n",
              "      <td>0.0</td>\n",
              "      <td>0.003621</td>\n",
              "    </tr>\n",
              "    <tr>\n",
              "      <th>9</th>\n",
              "      <td>Fuck off!</td>\n",
              "      <td>0.0</td>\n",
              "      <td>0.003520</td>\n",
              "    </tr>\n",
              "    <tr>\n",
              "      <th>10</th>\n",
              "      <td>No I don't like cold!</td>\n",
              "      <td>0.0</td>\n",
              "      <td>0.005002</td>\n",
              "    </tr>\n",
              "    <tr>\n",
              "      <th>11</th>\n",
              "      <td>NOOOOOOOOO! Don't do that!</td>\n",
              "      <td>0.0</td>\n",
              "      <td>0.006633</td>\n",
              "    </tr>\n",
              "    <tr>\n",
              "      <th>12</th>\n",
              "      <td>No don't tell me that!</td>\n",
              "      <td>0.0</td>\n",
              "      <td>0.003627</td>\n",
              "    </tr>\n",
              "    <tr>\n",
              "      <th>13</th>\n",
              "      <td>What if?!</td>\n",
              "      <td>0.0</td>\n",
              "      <td>0.003886</td>\n",
              "    </tr>\n",
              "    <tr>\n",
              "      <th>14</th>\n",
              "      <td>Awesome!</td>\n",
              "      <td>0.0</td>\n",
              "      <td>0.003582</td>\n",
              "    </tr>\n",
              "    <tr>\n",
              "      <th>15</th>\n",
              "      <td>Birmingham Wholesale Market is ablaze BBC News...</td>\n",
              "      <td>1.0</td>\n",
              "      <td>0.991473</td>\n",
              "    </tr>\n",
              "    <tr>\n",
              "      <th>16</th>\n",
              "      <td>@sunkxssedharry will you wear shorts for race ...</td>\n",
              "      <td>0.0</td>\n",
              "      <td>0.033285</td>\n",
              "    </tr>\n",
              "    <tr>\n",
              "      <th>17</th>\n",
              "      <td>#PreviouslyOnDoyinTv: Toke MakinwaÛªs marriag...</td>\n",
              "      <td>1.0</td>\n",
              "      <td>0.861112</td>\n",
              "    </tr>\n",
              "    <tr>\n",
              "      <th>18</th>\n",
              "      <td>Check these out: http://t.co/rOI2NSmEJJ http:/...</td>\n",
              "      <td>0.0</td>\n",
              "      <td>0.003527</td>\n",
              "    </tr>\n",
              "    <tr>\n",
              "      <th>19</th>\n",
              "      <td>PSA: IÛªm splitting my personalities.\\n\\n?? t...</td>\n",
              "      <td>0.0</td>\n",
              "      <td>0.121279</td>\n",
              "    </tr>\n",
              "  </tbody>\n",
              "</table>\n",
              "</div>"
            ],
            "text/plain": [
              "                                               Tweets  ...  Predicted Probability\n",
              "0                  Just happened a terrible car crash  ...               0.979971\n",
              "1   Heard about #earthquake is different cities, s...  ...               0.994434\n",
              "2   there is a forest fire at spot pond, geese are...  ...               0.995478\n",
              "3            Apocalypse lighting. #Spokane #wildfires  ...               0.994803\n",
              "4       Typhoon Soudelor kills 28 in China and Taiwan  ...               0.996075\n",
              "5                  We're shaking...It's an earthquake  ...               0.989948\n",
              "6   They'd probably still show more life than Arse...  ...               0.003655\n",
              "7                                   Hey! How are you?  ...               0.003811\n",
              "8                                    What a nice hat?  ...               0.003621\n",
              "9                                           Fuck off!  ...               0.003520\n",
              "10                              No I don't like cold!  ...               0.005002\n",
              "11                         NOOOOOOOOO! Don't do that!  ...               0.006633\n",
              "12                             No don't tell me that!  ...               0.003627\n",
              "13                                          What if?!  ...               0.003886\n",
              "14                                           Awesome!  ...               0.003582\n",
              "15  Birmingham Wholesale Market is ablaze BBC News...  ...               0.991473\n",
              "16  @sunkxssedharry will you wear shorts for race ...  ...               0.033285\n",
              "17  #PreviouslyOnDoyinTv: Toke MakinwaÛªs marriag...  ...               0.861112\n",
              "18  Check these out: http://t.co/rOI2NSmEJJ http:/...  ...               0.003527\n",
              "19  PSA: IÛªm splitting my personalities.\\n\\n?? t...  ...               0.121279\n",
              "\n",
              "[20 rows x 3 columns]"
            ]
          },
          "metadata": {},
          "execution_count": 38
        }
      ]
    },
    {
      "cell_type": "code",
      "metadata": {
        "colab": {
          "base_uri": "https://localhost:8080/"
        },
        "id": "S6VKTyU_eOvM",
        "outputId": "8f3359bb-f35b-4652-a033-bcd35b97e76d"
      },
      "source": [
        "# Visualize random samples\n",
        "for row in results_df[:10].itertuples():\n",
        "  _,text,pred,pred_prob = row\n",
        "  print(f\"Pred : {pred}, Prob : {pred_prob}\")\n",
        "  print(f\"Text : \\n {text}\\n\")\n",
        "  print(\"-----\\n\")"
      ],
      "execution_count": 39,
      "outputs": [
        {
          "output_type": "stream",
          "name": "stdout",
          "text": [
            "Pred : 1.0, Prob : 0.9799708127975464\n",
            "Text : \n",
            " Just happened a terrible car crash\n",
            "\n",
            "-----\n",
            "\n",
            "Pred : 1.0, Prob : 0.9944344162940979\n",
            "Text : \n",
            " Heard about #earthquake is different cities, stay safe everyone.\n",
            "\n",
            "-----\n",
            "\n",
            "Pred : 1.0, Prob : 0.9954783320426941\n",
            "Text : \n",
            " there is a forest fire at spot pond, geese are fleeing across the street, I cannot save them all\n",
            "\n",
            "-----\n",
            "\n",
            "Pred : 1.0, Prob : 0.994803249835968\n",
            "Text : \n",
            " Apocalypse lighting. #Spokane #wildfires\n",
            "\n",
            "-----\n",
            "\n",
            "Pred : 1.0, Prob : 0.9960753321647644\n",
            "Text : \n",
            " Typhoon Soudelor kills 28 in China and Taiwan\n",
            "\n",
            "-----\n",
            "\n",
            "Pred : 1.0, Prob : 0.9899483919143677\n",
            "Text : \n",
            " We're shaking...It's an earthquake\n",
            "\n",
            "-----\n",
            "\n",
            "Pred : 0.0, Prob : 0.003655102802440524\n",
            "Text : \n",
            " They'd probably still show more life than Arsenal did yesterday, eh? EH?\n",
            "\n",
            "-----\n",
            "\n",
            "Pred : 0.0, Prob : 0.0038114278577268124\n",
            "Text : \n",
            " Hey! How are you?\n",
            "\n",
            "-----\n",
            "\n",
            "Pred : 0.0, Prob : 0.003621102310717106\n",
            "Text : \n",
            " What a nice hat?\n",
            "\n",
            "-----\n",
            "\n",
            "Pred : 0.0, Prob : 0.0035199164412915707\n",
            "Text : \n",
            " Fuck off!\n",
            "\n",
            "-----\n",
            "\n"
          ]
        }
      ]
    },
    {
      "cell_type": "code",
      "metadata": {
        "colab": {
          "base_uri": "https://localhost:8080/"
        },
        "id": "lU1Jmx97fPzs",
        "outputId": "2d3e7caf-3e35-45e2-fb6d-266d48cacb56"
      },
      "source": [
        "# Save the model\n",
        "model.save(\"tf_hub_use_model\")"
      ],
      "execution_count": 40,
      "outputs": [
        {
          "output_type": "stream",
          "name": "stderr",
          "text": [
            "WARNING:absl:Function `_wrapped_model` contains input name(s) USE_input with unsupported characters which will be renamed to use_input in the SavedModel.\n"
          ]
        },
        {
          "output_type": "stream",
          "name": "stdout",
          "text": [
            "INFO:tensorflow:Assets written to: tf_hub_use_model/assets\n"
          ]
        },
        {
          "output_type": "stream",
          "name": "stderr",
          "text": [
            "INFO:tensorflow:Assets written to: tf_hub_use_model/assets\n"
          ]
        }
      ]
    },
    {
      "cell_type": "markdown",
      "metadata": {
        "id": "NwnmpOpPf8xD"
      },
      "source": [
        "## Finding the most wrong predictions"
      ]
    },
    {
      "cell_type": "code",
      "metadata": {
        "id": "e9ksMviPgR0K"
      },
      "source": [
        "# Make predictions on validation set\n",
        "validation_pred_probs = model.predict(validation_sentences)\n",
        "validation_preds = tf.squeeze(tf.round(validation_pred_probs))"
      ],
      "execution_count": 41,
      "outputs": []
    },
    {
      "cell_type": "code",
      "metadata": {
        "colab": {
          "base_uri": "https://localhost:8080/",
          "height": 204
        },
        "id": "nYGhgMEQgL2m",
        "outputId": "650e05e6-2a52-4a97-b377-088f4c1f1993"
      },
      "source": [
        "# Create a dataframe with val sentences, val labels and best performing model prediction labels and probabilities\n",
        "val_df = pd.DataFrame({\"text\":validation_sentences,\n",
        "                       \"target\":validation_labels,\n",
        "                       \"pred\":validation_preds,\n",
        "                       \"pred_prob\":tf.squeeze(validation_pred_probs)})\n",
        "\n",
        "val_df.head()"
      ],
      "execution_count": 42,
      "outputs": [
        {
          "output_type": "execute_result",
          "data": {
            "text/html": [
              "<div>\n",
              "<style scoped>\n",
              "    .dataframe tbody tr th:only-of-type {\n",
              "        vertical-align: middle;\n",
              "    }\n",
              "\n",
              "    .dataframe tbody tr th {\n",
              "        vertical-align: top;\n",
              "    }\n",
              "\n",
              "    .dataframe thead th {\n",
              "        text-align: right;\n",
              "    }\n",
              "</style>\n",
              "<table border=\"1\" class=\"dataframe\">\n",
              "  <thead>\n",
              "    <tr style=\"text-align: right;\">\n",
              "      <th></th>\n",
              "      <th>text</th>\n",
              "      <th>target</th>\n",
              "      <th>pred</th>\n",
              "      <th>pred_prob</th>\n",
              "    </tr>\n",
              "  </thead>\n",
              "  <tbody>\n",
              "    <tr>\n",
              "      <th>0</th>\n",
              "      <td>DFR EP016 Monthly Meltdown - On Dnbheaven 2015...</td>\n",
              "      <td>0</td>\n",
              "      <td>0.0</td>\n",
              "      <td>0.003614</td>\n",
              "    </tr>\n",
              "    <tr>\n",
              "      <th>1</th>\n",
              "      <td>FedEx no longer to transport bioterror germs i...</td>\n",
              "      <td>0</td>\n",
              "      <td>1.0</td>\n",
              "      <td>0.614669</td>\n",
              "    </tr>\n",
              "    <tr>\n",
              "      <th>2</th>\n",
              "      <td>Gunmen kill four in El Salvador bus attack: Su...</td>\n",
              "      <td>1</td>\n",
              "      <td>1.0</td>\n",
              "      <td>0.996479</td>\n",
              "    </tr>\n",
              "    <tr>\n",
              "      <th>3</th>\n",
              "      <td>@camilacabello97 Internally and externally scr...</td>\n",
              "      <td>1</td>\n",
              "      <td>1.0</td>\n",
              "      <td>0.993419</td>\n",
              "    </tr>\n",
              "    <tr>\n",
              "      <th>4</th>\n",
              "      <td>Radiation emergency #preparedness starts with ...</td>\n",
              "      <td>1</td>\n",
              "      <td>1.0</td>\n",
              "      <td>0.996018</td>\n",
              "    </tr>\n",
              "  </tbody>\n",
              "</table>\n",
              "</div>"
            ],
            "text/plain": [
              "                                                text  target  pred  pred_prob\n",
              "0  DFR EP016 Monthly Meltdown - On Dnbheaven 2015...       0   0.0   0.003614\n",
              "1  FedEx no longer to transport bioterror germs i...       0   1.0   0.614669\n",
              "2  Gunmen kill four in El Salvador bus attack: Su...       1   1.0   0.996479\n",
              "3  @camilacabello97 Internally and externally scr...       1   1.0   0.993419\n",
              "4  Radiation emergency #preparedness starts with ...       1   1.0   0.996018"
            ]
          },
          "metadata": {},
          "execution_count": 42
        }
      ]
    },
    {
      "cell_type": "code",
      "metadata": {
        "colab": {
          "base_uri": "https://localhost:8080/",
          "height": 142
        },
        "id": "uWtK7h2WgrIW",
        "outputId": "68a3cde9-b22a-4760-d698-f9ba164d4065"
      },
      "source": [
        "# Find the wrong predictions and sort by prediction probabilities\n",
        "most_wrong = val_df[val_df[\"target\"] != val_df[\"pred\"]].sort_values(\"pred_prob\",ascending=False)\n",
        "most_wrong[:5]"
      ],
      "execution_count": 43,
      "outputs": [
        {
          "output_type": "execute_result",
          "data": {
            "text/html": [
              "<div>\n",
              "<style scoped>\n",
              "    .dataframe tbody tr th:only-of-type {\n",
              "        vertical-align: middle;\n",
              "    }\n",
              "\n",
              "    .dataframe tbody tr th {\n",
              "        vertical-align: top;\n",
              "    }\n",
              "\n",
              "    .dataframe thead th {\n",
              "        text-align: right;\n",
              "    }\n",
              "</style>\n",
              "<table border=\"1\" class=\"dataframe\">\n",
              "  <thead>\n",
              "    <tr style=\"text-align: right;\">\n",
              "      <th></th>\n",
              "      <th>text</th>\n",
              "      <th>target</th>\n",
              "      <th>pred</th>\n",
              "      <th>pred_prob</th>\n",
              "    </tr>\n",
              "  </thead>\n",
              "  <tbody>\n",
              "    <tr>\n",
              "      <th>1</th>\n",
              "      <td>FedEx no longer to transport bioterror germs i...</td>\n",
              "      <td>0</td>\n",
              "      <td>1.0</td>\n",
              "      <td>0.614669</td>\n",
              "    </tr>\n",
              "    <tr>\n",
              "      <th>402</th>\n",
              "      <td>Earthquake drill ??</td>\n",
              "      <td>1</td>\n",
              "      <td>0.0</td>\n",
              "      <td>0.149481</td>\n",
              "    </tr>\n",
              "    <tr>\n",
              "      <th>706</th>\n",
              "      <td>How is it one careless match can start a fores...</td>\n",
              "      <td>1</td>\n",
              "      <td>0.0</td>\n",
              "      <td>0.013972</td>\n",
              "    </tr>\n",
              "  </tbody>\n",
              "</table>\n",
              "</div>"
            ],
            "text/plain": [
              "                                                  text  target  pred  pred_prob\n",
              "1    FedEx no longer to transport bioterror germs i...       0   1.0   0.614669\n",
              "402                                Earthquake drill ??       1   0.0   0.149481\n",
              "706  How is it one careless match can start a fores...       1   0.0   0.013972"
            ]
          },
          "metadata": {},
          "execution_count": 43
        }
      ]
    },
    {
      "cell_type": "code",
      "metadata": {
        "colab": {
          "base_uri": "https://localhost:8080/"
        },
        "id": "xvXusJh_g2Yu",
        "outputId": "64ffa03b-f87a-4250-ebd9-3467e45ef261"
      },
      "source": [
        "# Check out full tweets of our most wrong predictions\n",
        "for row in most_wrong.itertuples():\n",
        "  _,text,target,pred,pred_prob = row\n",
        "  print(f\"Target : {target}, Pred : {pred}, Prob : {pred_prob}\")\n",
        "  print(f\"Text : \\n {text}\\n\")\n",
        "  print(\"-----\\n\")"
      ],
      "execution_count": 45,
      "outputs": [
        {
          "output_type": "stream",
          "name": "stdout",
          "text": [
            "Target : 0, Pred : 1.0, Prob : 0.6146690845489502\n",
            "Text : \n",
            " FedEx no longer to transport bioterror germs in wake of anthrax lab mishaps http://t.co/qZQc8WWwcN via @usatoday\n",
            "\n",
            "-----\n",
            "\n",
            "Target : 1, Pred : 0.0, Prob : 0.14948110282421112\n",
            "Text : \n",
            " Earthquake drill ??\n",
            "\n",
            "-----\n",
            "\n",
            "Target : 1, Pred : 0.0, Prob : 0.013971691019833088\n",
            "Text : \n",
            " How is it one careless match can start a forest fire but it takes a whole box to start a campfire?\n",
            "\n",
            "-----\n",
            "\n"
          ]
        }
      ]
    },
    {
      "cell_type": "markdown",
      "metadata": {
        "id": "btyTo7OdhEc5"
      },
      "source": [
        "## Save the results prediction file on test dataset"
      ]
    },
    {
      "cell_type": "code",
      "metadata": {
        "id": "eUaNTVGChjB_"
      },
      "source": [
        "results_df.to_csv(\"results.csv\")"
      ],
      "execution_count": 46,
      "outputs": []
    }
  ]
}